{
 "cells": [
  {
   "cell_type": "markdown",
   "id": "061760da",
   "metadata": {},
   "source": [
    "# E‑Commerce Data Engineering Lab \n"
   ]
  },
  {
   "cell_type": "markdown",
   "id": "1f52395f",
   "metadata": {},
   "source": [
    "## Step 1 — Hello, Data!\n",
    "Load a raw CSV and show the first 3 rows.\n",
    "\n"
   ]
  },
  {
   "cell_type": "code",
   "execution_count": 1,
   "id": "01293e89",
   "metadata": {},
   "outputs": [
    {
     "data": {
      "application/vnd.microsoft.datawrangler.viewer.v0+json": {
       "columns": [
        {
         "name": "index",
         "rawType": "int64",
         "type": "integer"
        },
        {
         "name": "Region",
         "rawType": "object",
         "type": "string"
        },
        {
         "name": "Country",
         "rawType": "object",
         "type": "string"
        },
        {
         "name": "Item Type",
         "rawType": "object",
         "type": "string"
        },
        {
         "name": "Sales Channel",
         "rawType": "object",
         "type": "string"
        },
        {
         "name": "Order Priority",
         "rawType": "object",
         "type": "string"
        },
        {
         "name": "Order Date",
         "rawType": "object",
         "type": "string"
        },
        {
         "name": "Order ID",
         "rawType": "int64",
         "type": "integer"
        },
        {
         "name": "Ship Date",
         "rawType": "object",
         "type": "string"
        },
        {
         "name": "Units Sold",
         "rawType": "int64",
         "type": "integer"
        },
        {
         "name": "Unit Price",
         "rawType": "float64",
         "type": "float"
        },
        {
         "name": "Unit Cost",
         "rawType": "float64",
         "type": "float"
        },
        {
         "name": "Total Revenue",
         "rawType": "float64",
         "type": "float"
        },
        {
         "name": "Total Cost",
         "rawType": "float64",
         "type": "float"
        },
        {
         "name": "Total Profit",
         "rawType": "float64",
         "type": "float"
        }
       ],
       "ref": "1e1af508-384e-4ae7-84bb-4f6965fac291",
       "rows": [
        [
         "0",
         "Central America and the Caribbean",
         "Antigua and Barbuda ",
         "Baby Food",
         "Online",
         "M",
         "12/20/2013",
         "957081544",
         "1/11/2014",
         "552",
         "255.28",
         "159.42",
         "140914.56",
         "87999.84",
         "52914.72"
        ],
        [
         "1",
         "Central America and the Caribbean",
         "Panama",
         "Snacks",
         "Offline",
         "C",
         "7/5/2010",
         "301644504",
         "7/26/2010",
         "2167",
         "152.58",
         "97.44",
         "330640.86",
         "211152.48",
         "119488.38"
        ],
        [
         "2",
         "Europe",
         "Czech Republic",
         "Beverages",
         "Offline",
         "C",
         "9/12/2011",
         "478051030",
         "9/29/2011",
         "4778",
         "47.45",
         "31.79",
         "226716.1",
         "151892.62",
         "74823.48"
        ]
       ],
       "shape": {
        "columns": 14,
        "rows": 3
       }
      },
      "text/html": [
       "<div>\n",
       "<style scoped>\n",
       "    .dataframe tbody tr th:only-of-type {\n",
       "        vertical-align: middle;\n",
       "    }\n",
       "\n",
       "    .dataframe tbody tr th {\n",
       "        vertical-align: top;\n",
       "    }\n",
       "\n",
       "    .dataframe thead th {\n",
       "        text-align: right;\n",
       "    }\n",
       "</style>\n",
       "<table border=\"1\" class=\"dataframe\">\n",
       "  <thead>\n",
       "    <tr style=\"text-align: right;\">\n",
       "      <th></th>\n",
       "      <th>Region</th>\n",
       "      <th>Country</th>\n",
       "      <th>Item Type</th>\n",
       "      <th>Sales Channel</th>\n",
       "      <th>Order Priority</th>\n",
       "      <th>Order Date</th>\n",
       "      <th>Order ID</th>\n",
       "      <th>Ship Date</th>\n",
       "      <th>Units Sold</th>\n",
       "      <th>Unit Price</th>\n",
       "      <th>Unit Cost</th>\n",
       "      <th>Total Revenue</th>\n",
       "      <th>Total Cost</th>\n",
       "      <th>Total Profit</th>\n",
       "    </tr>\n",
       "  </thead>\n",
       "  <tbody>\n",
       "    <tr>\n",
       "      <th>0</th>\n",
       "      <td>Central America and the Caribbean</td>\n",
       "      <td>Antigua and Barbuda</td>\n",
       "      <td>Baby Food</td>\n",
       "      <td>Online</td>\n",
       "      <td>M</td>\n",
       "      <td>12/20/2013</td>\n",
       "      <td>957081544</td>\n",
       "      <td>1/11/2014</td>\n",
       "      <td>552</td>\n",
       "      <td>255.28</td>\n",
       "      <td>159.42</td>\n",
       "      <td>140914.56</td>\n",
       "      <td>87999.84</td>\n",
       "      <td>52914.72</td>\n",
       "    </tr>\n",
       "    <tr>\n",
       "      <th>1</th>\n",
       "      <td>Central America and the Caribbean</td>\n",
       "      <td>Panama</td>\n",
       "      <td>Snacks</td>\n",
       "      <td>Offline</td>\n",
       "      <td>C</td>\n",
       "      <td>7/5/2010</td>\n",
       "      <td>301644504</td>\n",
       "      <td>7/26/2010</td>\n",
       "      <td>2167</td>\n",
       "      <td>152.58</td>\n",
       "      <td>97.44</td>\n",
       "      <td>330640.86</td>\n",
       "      <td>211152.48</td>\n",
       "      <td>119488.38</td>\n",
       "    </tr>\n",
       "    <tr>\n",
       "      <th>2</th>\n",
       "      <td>Europe</td>\n",
       "      <td>Czech Republic</td>\n",
       "      <td>Beverages</td>\n",
       "      <td>Offline</td>\n",
       "      <td>C</td>\n",
       "      <td>9/12/2011</td>\n",
       "      <td>478051030</td>\n",
       "      <td>9/29/2011</td>\n",
       "      <td>4778</td>\n",
       "      <td>47.45</td>\n",
       "      <td>31.79</td>\n",
       "      <td>226716.10</td>\n",
       "      <td>151892.62</td>\n",
       "      <td>74823.48</td>\n",
       "    </tr>\n",
       "  </tbody>\n",
       "</table>\n",
       "</div>"
      ],
      "text/plain": [
       "                              Region               Country  Item Type  \\\n",
       "0  Central America and the Caribbean  Antigua and Barbuda   Baby Food   \n",
       "1  Central America and the Caribbean                Panama     Snacks   \n",
       "2                             Europe        Czech Republic  Beverages   \n",
       "\n",
       "  Sales Channel Order Priority  Order Date   Order ID  Ship Date  Units Sold  \\\n",
       "0        Online              M  12/20/2013  957081544  1/11/2014         552   \n",
       "1       Offline              C    7/5/2010  301644504  7/26/2010        2167   \n",
       "2       Offline              C   9/12/2011  478051030  9/29/2011        4778   \n",
       "\n",
       "   Unit Price  Unit Cost  Total Revenue  Total Cost  Total Profit  \n",
       "0      255.28     159.42      140914.56    87999.84      52914.72  \n",
       "1      152.58      97.44      330640.86   211152.48     119488.38  \n",
       "2       47.45      31.79      226716.10   151892.62      74823.48  "
      ]
     },
     "execution_count": 1,
     "metadata": {},
     "output_type": "execute_result"
    }
   ],
   "source": [
    "import pandas as pd\n",
    "import numpy as np\n",
    "\n",
    "df = pd.read_csv('./data/5000 Sales Records.csv')\n",
    "\n",
    "df.head(3)\n"
   ]
  },
  {
   "cell_type": "markdown",
   "id": "6858fbb6",
   "metadata": {},
   "source": [
    "## Step 2 — Pick the Right Container\n",
    "\n",
    "Dict is flexible, lets you map field names to values, and is easy to update or extend. Namedtuple is lightweight and immutable, but harder to modify if new fields appear. Set only stores unique values without order or key–value mapping.I chose dict because it best fits tabular data with field names and allows easy merging, cleaning, and JSON export."
   ]
  },
  {
   "cell_type": "markdown",
   "id": "eb634eaf",
   "metadata": {},
   "source": [
    "## Step 3 — Implement functions data structure\n"
   ]
  },
  {
   "cell_type": "code",
   "execution_count": 17,
   "id": "8ec89dfe",
   "metadata": {},
   "outputs": [
    {
     "name": "stdout",
     "output_type": "stream",
     "text": [
      "                              Region               Country  Item Type  \\\n",
      "0  Central America and the Caribbean  Antigua and Barbuda   Baby Food   \n",
      "1  Central America and the Caribbean                Panama     Snacks   \n",
      "2                             Europe        Czech Republic  Beverages   \n",
      "3                               Asia           North Korea     Cereal   \n",
      "4                               Asia             Sri Lanka     Snacks   \n",
      "\n",
      "  Sales Channel Order Priority  Order Date   Order ID  Ship Date  Units Sold  \\\n",
      "0        Online              M  12/20/2013  957081544  1/11/2014         552   \n",
      "1       Offline              C    7/5/2010  301644504  7/26/2010        2167   \n",
      "2       Offline              C   9/12/2011  478051030  9/29/2011        4778   \n",
      "3       Offline              L   5/13/2010  892599952  6/15/2010        9016   \n",
      "4       Offline              C   7/20/2015  571902596  7/27/2015        7542   \n",
      "\n",
      "   Unit Price  Unit Cost  Total Revenue  Total Cost  Total Profit  \n",
      "0      255.28     159.42      140914.56    87999.84      52914.72  \n",
      "1      152.58      97.44      330640.86   211152.48     119488.38  \n",
      "2       47.45      31.79      226716.10   151892.62      74823.48  \n",
      "3      205.70     117.11     1854591.20  1055863.76     798727.44  \n",
      "4      152.58      97.44     1150758.36   734892.48     415865.88  \n",
      "{'Region': 'Europe', 'Country': 'Czech Republic', 'Item Type': 'Beverages', 'Sales Channel': 'Offline', 'Order Priority': 'C', 'Order Date': '9/12/2011', 'Order ID': 478051030, 'Ship Date': '9/29/2011', 'Units Sold': 4778, 'Unit Price': 47.45, 'Unit Cost': 31.79, 'Total Revenue': 226716.1, 'Total Cost': 151892.62, 'Total Profit': 74823.48}\n"
     ]
    }
   ],
   "source": [
    "import pandas as pd\n",
    "\n",
    "class Record:\n",
    "    def __init__(self):\n",
    "        self.records = []\n",
    "        \n",
    "    def total(self, path):\n",
    "        df = pd.read_csv(path)\n",
    "        self.records = df.to_dict(orient=\"records\")\n",
    "        return df\n",
    "        \n",
    "ri = Record()\n",
    "ri.total('./data/5000 Sales Records.csv')\n",
    "\n",
    "print(df.head())            \n",
    "print(ri.records[2])\n",
    "\n",
    "\n",
    "   \n",
    "    \n"
   ]
  },
  {
   "cell_type": "markdown",
   "id": "4e9d3481",
   "metadata": {},
   "source": [
    "## Step 4 — Bulk Loader"
   ]
  },
  {
   "cell_type": "markdown",
   "id": "49507fb7",
   "metadata": {},
   "source": [
    "Dictionary of Rows"
   ]
  },
  {
   "cell_type": "code",
   "execution_count": 7,
   "id": "5f0fc305",
   "metadata": {},
   "outputs": [
    {
     "name": "stdout",
     "output_type": "stream",
     "text": [
      "{'Region': 'Central America and the Caribbean', 'Country': 'Antigua and Barbuda ', 'Item Type': 'Baby Food', 'Sales Channel': 'Online', 'Order Priority': 'M', 'Order Date': '12/20/2013', 'Order ID': 957081544, 'Ship Date': '1/11/2014', 'Units Sold': 552, 'Unit Price': 255.28, 'Unit Cost': 159.42, 'Total Revenue': 140914.56, 'Total Cost': 87999.84, 'Total Profit': 52914.72}\n"
     ]
    }
   ],
   "source": [
    "rows_dict = df.to_dict(orient=\"records\")\n",
    "print(ri.records[0])\n"
   ]
  },
  {
   "cell_type": "markdown",
   "id": "c1e498e7",
   "metadata": {},
   "source": [
    "Dictionary of Columns"
   ]
  },
  {
   "cell_type": "code",
   "execution_count": 11,
   "id": "eb830d08",
   "metadata": {},
   "outputs": [
    {
     "name": "stdout",
     "output_type": "stream",
     "text": [
      "['Central America and the Caribbean', 'Central America and the Caribbean', 'Europe', 'Asia', 'Asia']\n"
     ]
    }
   ],
   "source": [
    "colmn_dict = df.to_dict(orient=\"list\")\n",
    "print(colmn_dict[\"Region\"][:5])"
   ]
  },
  {
   "cell_type": "markdown",
   "id": "427f41fd",
   "metadata": {},
   "source": [
    "## Step 5 — Quick Profiling"
   ]
  },
  {
   "cell_type": "code",
   "execution_count": 12,
   "id": "92486558",
   "metadata": {},
   "outputs": [
    {
     "name": "stdout",
     "output_type": "stream",
     "text": [
      "Min Unit Price: 9.33\n",
      "Mean Unit Price: 265.74556399999994\n",
      "Max Unit Price: 668.27\n",
      "Unique Country Count: 185\n"
     ]
    }
   ],
   "source": [
    "min_price = df[\"Unit Price\"].min()\n",
    "mean_price = df[\"Unit Price\"].mean()\n",
    "max_price = df[\"Unit Price\"].max()\n",
    "\n",
    "unique_countries = set(df[\"Country\"])\n",
    "unique_count = len(unique_countries)\n",
    "\n",
    "print(\"Min Unit Price:\", min_price)\n",
    "print(\"Mean Unit Price:\", mean_price)\n",
    "print(\"Max Unit Price:\", max_price)\n",
    "print(\"Unique Country Count:\", unique_count)"
   ]
  },
  {
   "cell_type": "markdown",
   "id": "1bd05e7e",
   "metadata": {},
   "source": [
    "## Step 6 — Spot the Grime"
   ]
  },
  {
   "cell_type": "markdown",
   "id": "97d76c31",
   "metadata": {},
   "source": [
    "## Step 7 — Cleaning Rules"
   ]
  },
  {
   "cell_type": "code",
   "execution_count": 15,
   "id": "ae1754bd",
   "metadata": {},
   "outputs": [
    {
     "name": "stdout",
     "output_type": "stream",
     "text": [
      "Before: (5000, 14) After: (5000, 14)\n"
     ]
    }
   ],
   "source": [
    "import pandas as pd\n",
    "\n",
    "df = pd.read_csv(\"./data/5000 Sales Records.csv\")\n",
    "\n",
    "def clean(df):\n",
    "    before = df.shape\n",
    "    \n",
    "    df[\"Order Date\"] = pd.to_datetime(df[\"Order Date\"], errors=\"coerce\")\n",
    "    df[\"Ship Date\"] = pd.to_datetime(df[\"Ship Date\"], errors=\"coerce\")\n",
    "\n",
    "    for col in [\"Region\", \"Country\", \"Item Type\", \"Sales Channel\", \"Order Priority\"]:\n",
    "        df[col] = df[col].astype(str).str.strip().str.title()\n",
    "\n",
    "    df = df[(df[\"Units Sold\"] > 0) & (df[\"Unit Price\"] > 0) & (df[\"Unit Cost\"] > 0)]\n",
    "    \n",
    "    df[\"Total Profit\"] = df[\"Total Revenue\"] - df[\"Total Cost\"]\n",
    "    \n",
    "    after = df.shape\n",
    "    print(\"Before:\", before, \"After:\", after)\n",
    "    return df\n",
    "\n",
    "cleaned = clean(df)\n"
   ]
  },
  {
   "cell_type": "markdown",
   "id": "067af07b",
   "metadata": {},
   "source": [
    "## Step 8 — Transformations"
   ]
  },
  {
   "cell_type": "code",
   "execution_count": 18,
   "id": "5389b598",
   "metadata": {},
   "outputs": [
    {
     "name": "stdout",
     "output_type": "stream",
     "text": [
      "                Country  Item Type Sales Channel coupon_code\n",
      "0  Antigua and Barbuda   Baby Food        Online        NONE\n",
      "1                Panama     Snacks       Offline        NONE\n",
      "2        Czech Republic  Beverages       Offline        NONE\n",
      "3           North Korea     Cereal       Offline        HALF\n",
      "4             Sri Lanka     Snacks       Offline        NONE\n"
     ]
    }
   ],
   "source": [
    "import pandas as pd\n",
    "import numpy as np\n",
    "\n",
    "# Load your CSV\n",
    "df = pd.read_csv(\"./data/5000 Sales Records.csv\")\n",
    "\n",
    "# Define possible coupon codes\n",
    "codes = [\"DISC10\", \"SAVE20\", \"HALF\", \"NONE\"]\n",
    "\n",
    "# Randomly assign coupon codes to each row\n",
    "df[\"coupon_code\"] = np.random.choice(codes, size=len(df))\n",
    "\n",
    "print(df[[\"Country\", \"Item Type\", \"Sales Channel\", \"coupon_code\"]].head())\n"
   ]
  },
  {
   "cell_type": "code",
   "execution_count": 19,
   "id": "ba9dce97",
   "metadata": {},
   "outputs": [
    {
     "name": "stdout",
     "output_type": "stream",
     "text": [
      "  coupon_code  Discount (%)  Final Price\n",
      "0        XTR5             5   133868.832\n",
      "1        XTR5             5   314108.817\n",
      "2      SAVE20            20   181372.880\n",
      "3        None             0  1854591.200\n",
      "4        HALF            50   575379.180\n"
     ]
    }
   ],
   "source": [
    "import numpy as np\n",
    "import pandas as pd\n",
    "\n",
    "def parse_coupon(code):\n",
    "    if pd.isna(code): \n",
    "        return 0\n",
    "    code = str(code).upper().strip()\n",
    "\n",
    "    # Case 1:\n",
    "    digits = \"\".join([c for c in code if c.isdigit()])\n",
    "    if digits:\n",
    "        return int(digits)\n",
    "\n",
    "    # Case 2: \n",
    "    if code == \"HALF\":\n",
    "        return 50\n",
    "    if code == \"NONE\":\n",
    "        return 0\n",
    "\n",
    "    # Case 3:\n",
    "    return 0\n",
    "\n",
    "\n",
    "codes = [\"DISC10\", \"SAVE20\", \"HALF\", \"NONE\", \"XTR5\", None]\n",
    "df[\"coupon_code\"] = np.random.choice(codes, size=len(df))\n",
    "\n",
    "df[\"Discount (%)\"] = df[\"coupon_code\"].apply(parse_coupon)\n",
    "\n",
    "df[\"Final Price\"] = df[\"Unit Price\"] * df[\"Units Sold\"] * (1 - df[\"Discount (%)\"]/100)\n",
    "\n",
    "print(df[[\"coupon_code\", \"Discount (%)\", \"Final Price\"]].head())\n"
   ]
  },
  {
   "cell_type": "markdown",
   "id": "56aea334",
   "metadata": {},
   "source": [
    "## Step 9 — Feature Engineering"
   ]
  },
  {
   "cell_type": "code",
   "execution_count": 20,
   "id": "d8375f47",
   "metadata": {},
   "outputs": [
    {
     "name": "stdout",
     "output_type": "stream",
     "text": [
      "  Order Date  days_since_purchase\n",
      "0 2013-12-20                 4301\n",
      "1 2010-07-05                 5565\n",
      "2 2011-09-12                 5131\n",
      "3 2010-05-13                 5618\n",
      "4 2015-07-20                 3724\n"
     ]
    }
   ],
   "source": [
    "import pandas as pd\n",
    "from datetime import datetime\n",
    "\n",
    "df = pd.read_csv('./data/5000 Sales Records.csv')\n",
    "\n",
    "df[\"Order Date\"] = pd.to_datetime(df[\"Order Date\"], errors = \"coerce\")\n",
    "\n",
    "today = pd.Timestamp.today().normalize()\n",
    "df[\"days_since_purchase\"] = (today - df[\"Order Date\"]).dt.days\n",
    "\n",
    "print(df[[\"Order Date\", \"days_since_purchase\"]].head())"
   ]
  },
  {
   "cell_type": "markdown",
   "id": "1f1daea0",
   "metadata": {},
   "source": [
    "## Step 10 — Mini-Aggregation"
   ]
  },
  {
   "cell_type": "code",
   "execution_count": 21,
   "id": "01131312",
   "metadata": {},
   "outputs": [
    {
     "name": "stdout",
     "output_type": "stream",
     "text": [
      "                           unit_cost  total_units  total_cost\n",
      "Country     Total Revenue                                    \n",
      "Afghanistan 13705.77            6.92            1    10165.48\n",
      "            79799.34           97.44            1    50961.12\n",
      "            225574.80          56.67            1   156409.20\n",
      "            246958.18          90.93            1   145760.79\n",
      "            274285.88          56.67            1   190184.52\n",
      "...                              ...          ...         ...\n",
      "Zimbabwe    1216409.20        159.42            1   759636.30\n",
      "            1486216.82         90.93            1   877201.71\n",
      "            3205942.11        364.69            1  2771279.31\n",
      "            3589946.44        502.54            1  2699644.88\n",
      "            5298244.56        524.96            1  4271074.56\n",
      "\n",
      "[5000 rows x 3 columns]\n"
     ]
    }
   ],
   "source": [
    "df = pd.read_csv('./data/5000 Sales Records.csv')\n",
    "\n",
    "revenue_country = df.groupby([\"Country\", \"Total Revenue\"]).agg(unit_cost=(\"Unit Cost\", \"mean\"), total_units=(\"Units Sold\", \"count\"), total_cost=(\"Total Cost\", \"sum\"))\n",
    "print(revenue_country)"
   ]
  },
  {
   "cell_type": "markdown",
   "id": "e48e7085",
   "metadata": {},
   "source": [
    "## Step 11 — Serialization Checkpoint"
   ]
  },
  {
   "cell_type": "code",
   "execution_count": 22,
   "id": "11012e32",
   "metadata": {},
   "outputs": [
    {
     "name": "stdout",
     "output_type": "stream",
     "text": [
      "Saved cleaned_sales.json\n"
     ]
    }
   ],
   "source": [
    "import pandas as pd\n",
    "\n",
    "df = pd.read_csv('./data/5000 Sales Records.csv')\n",
    "\n",
    "df.to_json(\"cleaned_sales.json\", orient=\"records\", indent=4, date_format=\"iso\")\n",
    "\n",
    "print(\"Saved cleaned_sales.json\")"
   ]
  },
  {
   "cell_type": "markdown",
   "id": "c18cd72c",
   "metadata": {},
   "source": [
    "## Step 12 — Soft Interview Reflection (<120 words)"
   ]
  },
  {
   "cell_type": "markdown",
   "id": "dd62689c",
   "metadata": {},
   "source": [
    "Functions help breakdown long complicated codes into smaller reusable steps. The idea is to put some commonly or repeatedly done task together and make a function so that instead of writing the same code again and again for different inputs, we can do the function calls to reuse code contained in it over and over again. This makes the code cleaner and easy to understand. They also make testing easier. The function can be reused over and over agin even in different files too. Overall they help reduce errors, make the work more organized, reliable and efficient."
   ]
  }
 ],
 "metadata": {
  "kernelspec": {
   "display_name": "Python 3",
   "language": "python",
   "name": "python3"
  },
  "language_info": {
   "codemirror_mode": {
    "name": "ipython",
    "version": 3
   },
   "file_extension": ".py",
   "mimetype": "text/x-python",
   "name": "python",
   "nbconvert_exporter": "python",
   "pygments_lexer": "ipython3",
   "version": "3.13.3"
  }
 },
 "nbformat": 4,
 "nbformat_minor": 5
}
